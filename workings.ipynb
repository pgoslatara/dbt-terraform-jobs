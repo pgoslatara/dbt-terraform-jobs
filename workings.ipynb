{
 "cells": [
  {
   "cell_type": "code",
   "execution_count": null,
   "metadata": {},
   "outputs": [],
   "source": [
    "from scripts.utils import run_dbt_shell_command\n",
    "\n",
    "run_dbt_shell_command(\"dbt parse\")\n"
   ]
  },
  {
   "cell_type": "code",
   "execution_count": null,
   "metadata": {},
   "outputs": [],
   "source": [
    "from dbt.cli.main import dbtRunner, dbtRunnerResult \n",
    "import logging\n",
    "\n",
    "def run_dbt_command(\n",
    "    dbt_command: str,\n",
    "):\n",
    "    \n",
    "    res = dbtRunner().invoke(dbt_command.split(\" \")[1:])\n",
    "\n",
    "    if res.exception:\n",
    "        raise RuntimeError(\"dbt command did not complete successfully.\")\n",
    "    \n",
    "run_dbt_command(\"dbt parse\")"
   ]
  },
  {
   "cell_type": "code",
   "execution_count": null,
   "metadata": {},
   "outputs": [],
   "source": [
    "res = dbtRunner().invoke([\"parse\"])\n",
    "res"
   ]
  },
  {
   "cell_type": "code",
   "execution_count": 5,
   "metadata": {},
   "outputs": [
    {
     "name": "stdout",
     "output_type": "stream",
     "text": [
      "\u001b[0m08:44:08  Running with dbt=1.6.5\n",
      "\u001b[0m08:44:08  Registered adapter: bigquery=1.6.6\n",
      "\u001b[0m08:44:08  Found 8 models, 3 seeds, 32 tests, 1 source, 6 exposures, 0 metrics, 396 macros, 0 groups, 0 semantic models\n",
      "\u001b[0m08:44:08  The selection criterion 'state:modified,package:beyond_basics' does not match any nodes\n",
      "\u001b[0m08:44:08  No nodes selected!\n",
      "modified_nodes_raw=[]\n"
     ]
    }
   ],
   "source": [
    "import argparse\n",
    "import logging\n",
    "import os\n",
    "\n",
    "from retry import retry\n",
    "from scripts.utils import (\n",
    "    ManifestInitRunError,\n",
    "    call_github_api,\n",
    "    download_manifest_json,\n",
    "    run_dbt_command,\n",
    "    send_github_pr_comment,\n",
    "    set_logging_options,\n",
    ")\n",
    "\n",
    "env = \"stg\"\n",
    "\n",
    "modified_nodes_raw = run_dbt_command(\n",
    "    f\"dbt ls --select state:modified,package:beyond_basics --state ./.state --resource-type model --target {env}\"\n",
    ")\n",
    "print(f\"{modified_nodes_raw=}\")\n"
   ]
  },
  {
   "cell_type": "code",
   "execution_count": null,
   "metadata": {},
   "outputs": [],
   "source": [
    "import json\n",
    "import logging\n",
    "import os\n",
    "import re\n",
    "from datetime import datetime\n",
    "from pathlib import Path\n",
    "from typing import Any, Mapping, Optional, Union\n",
    "\n",
    "import requests\n",
    "from dbt.cli.main import dbtRunner\n",
    "from google.cloud import bigquery, storage\n",
    "from google.oauth2 import service_account\n",
    "from retry import retry\n",
    "\n",
    "\n",
    "res = dbtRunner().invoke( f\"dbt ls --select state:modified,package:beyond_basics --state ./.state --resource-type model --target {env}\".split(\" \")[1:])"
   ]
  },
  {
   "cell_type": "code",
   "execution_count": null,
   "metadata": {},
   "outputs": [],
   "source": [
    "\n",
    "# inspect the results\n",
    "for r in res.result:\n",
    "    print(r)"
   ]
  }
 ],
 "metadata": {
  "kernelspec": {
   "display_name": ".venv",
   "language": "python",
   "name": "python3"
  },
  "language_info": {
   "codemirror_mode": {
    "name": "ipython",
    "version": 3
   },
   "file_extension": ".py",
   "mimetype": "text/x-python",
   "name": "python",
   "nbconvert_exporter": "python",
   "pygments_lexer": "ipython3",
   "version": "3.11.0rc1"
  }
 },
 "nbformat": 4,
 "nbformat_minor": 2
}
